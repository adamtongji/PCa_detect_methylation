{
 "cells": [
  {
   "cell_type": "code",
   "execution_count": 1,
   "id": "e8af82db",
   "metadata": {},
   "outputs": [],
   "source": [
    "import os\n",
    "\n",
    "def findAllfiles(base, suffix):\n",
    "    for root, ds, fs in os.walk(base):\n",
    "        for f in fs:\n",
    "            fullname = os.path.join(root, f)\n",
    "            if fullname.endswith(suffix):\n",
    "                yield fullname\n"
   ]
  },
  {
   "cell_type": "code",
   "execution_count": null,
   "id": "787c56c7",
   "metadata": {},
   "outputs": [],
   "source": []
  },
  {
   "cell_type": "code",
   "execution_count": 43,
   "id": "06e577ef",
   "metadata": {},
   "outputs": [],
   "source": [
    "in_path = [\"/Data/wangsg/Results/PANEL_DATA/20220111_14Samples\", \n",
    "           \"/Data/wangsg/Results/PANEL_DATA/Before_data\",\n",
    "           \"/Data/wangsg/Results/PANEL_DATA/20211231\",\n",
    "           \"/Data/wangsg/Results/PANEL_DATA/20211204\",\n",
    "           \"/Data/wangsg/Results/PANEL_DATA/20211129\",\n",
    "           \"/Data/wangsg/Results/PANEL_DATA/20220111_23Samples\",\n",
    "           \"/Data/wangsg/Results/PANEL_DATA/20211226\",\n",
    "           \"/Data/wangsg/Results/PANEL_DATA/20211121\",\n",
    "           \"/Data/wangsg/Results/PANEL_DATA/20220105\",\n",
    "           \"/Data/wangsg/Results/PANEL_DATA/Tissue\",\n",
    "           \"/Data/wangsg/Results/PANEL_DATA/20220131\",\n",
    "           \"/Data/wangsg/Results/PANEL_DATA/20220307\",\n",
    "           \"/Data/wangsg/Results/PANEL_DATA/20220315\", \n",
    "           \"/Data/wangsg/Results/PANEL_DATA/20220618\", \n",
    "           \"/Data/wangsg/Results/PANEL_DATA/20220622\",\n",
    "           \"/Data/wangsg/Results/PANEL_DATA/20220630\",\n",
    "           \"/Data/wangsg/Results/PANEL_DATA/20220711\",\n",
    "           \"/Data/wangsg/Results/PANEL_DATA/20220719\",\n",
    "           \"/Data/wangsg/Results/PANEL_DATA/20220722\",\n",
    "           '/Data/wangsg/Results/PANEL_DATA/2022830',\n",
    "          '/Data/wangsg/Results/PANEL_DATA/20220730_V2P38',\n",
    "           '/Data/wangsg/Results/PANEL_DATA/20220730_V2P39']\n",
    "# ,\n",
    "#           '/Data/wangsg/Results/PANEL_DATA/20221204_AHFT5MDSX5_U1134_V2P42',\n",
    "#           '/Data/wangsg/Results/PANEL_DATA/20221204_AHFT5MDSX5_U1134_V2P43',\n",
    "#           '/Data/wangsg/Results/PANEL_DATA/DBMED-20221214-L-01-2022-12-191417',]\n",
    "# ,\n",
    "#            '/Data/wangsg/Results/PANEL_DATA/20221013_V2P41']\n",
    "# \n",
    "all_conversion = []\n",
    "all_metric = []\n",
    "for mypath in in_path:\n",
    "    all_conversion = all_conversion + list(findAllfiles(mypath,'conversion_rate.txt'))\n",
    "    all_metric = all_metric +list(findAllfiles(mypath,'hs_metrics.txt'))"
   ]
  },
  {
   "cell_type": "code",
   "execution_count": 44,
   "id": "883fd1b6",
   "metadata": {},
   "outputs": [],
   "source": [
    "out = []\n",
    "header = ['sample']+[i.rstrip().split(\"\\t\") for i in open(all_metric[0])][0]+['conversion_rate',\"meth\",\"unmeth\"]\n",
    "out.append(\"\\t\".join(header))\n",
    "for my_cons in all_conversion:\n",
    "    my_prefix = my_cons.split(\"/\")[-3]\n",
    "    my_path = my_cons.rstrip(\"conversion_rate.txt\")\n",
    "    my_metric = \"{}/{}.hs_metrics.txt\".format(my_path,my_prefix)\n",
    "    outline = [my_prefix]+[i.rstrip().split(\"\\t\") for i in open(my_metric)][7]\\\n",
    "        +[i.rstrip().split(\" \") for i in open(my_cons)][0]\n",
    "#     print(outline)\n",
    "    out.append(\"\\t\".join(outline))"
   ]
  },
  {
   "cell_type": "code",
   "execution_count": 45,
   "id": "3a06d426",
   "metadata": {},
   "outputs": [],
   "source": [
    "with open(\"../final/figure/pub/sequencing_summary.txt\",\"w\") as fo:\n",
    "    for line in out:\n",
    "        fo.write(\"{}\\n\".format(line))"
   ]
  },
  {
   "cell_type": "code",
   "execution_count": null,
   "id": "3fb2e052",
   "metadata": {},
   "outputs": [],
   "source": []
  },
  {
   "cell_type": "code",
   "execution_count": null,
   "id": "9980e34c",
   "metadata": {},
   "outputs": [],
   "source": []
  },
  {
   "cell_type": "code",
   "execution_count": null,
   "id": "8fb12028",
   "metadata": {},
   "outputs": [],
   "source": []
  }
 ],
 "metadata": {
  "kernelspec": {
   "display_name": "frag_3090",
   "language": "python",
   "name": "frag_3090"
  },
  "language_info": {
   "codemirror_mode": {
    "name": "ipython",
    "version": 3
   },
   "file_extension": ".py",
   "mimetype": "text/x-python",
   "name": "python",
   "nbconvert_exporter": "python",
   "pygments_lexer": "ipython3",
   "version": "3.8.0"
  }
 },
 "nbformat": 4,
 "nbformat_minor": 5
}
